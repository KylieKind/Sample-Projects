{
 "cells": [
  {
   "cell_type": "markdown",
   "id": "c538ece0",
   "metadata": {},
   "source": [
    "Date: 4/1/2022 \\\n",
    "Author: Kylie Zhang\n",
    "\n",
    "This project scrapes data from Amazon.com to analyze price trend for products of interest.\n",
    "\n",
    "Step 1. Connect to the webpage of product of interest. \\\n",
    "Step 2. Extract data from website and saved to CSV file.  \\\n",
    "Step 3. Set up autochecks and price notifications on price change."
   ]
  },
  {
   "cell_type": "markdown",
   "id": "7b6392f4",
   "metadata": {},
   "source": [
    "### Scrape the price piecemeal"
   ]
  },
  {
   "cell_type": "code",
   "execution_count": 122,
   "id": "fc576c4e",
   "metadata": {},
   "outputs": [],
   "source": [
    "from bs4 import BeautifulSoup\n",
    "# soup = BeautifulSoup(html_doc, 'html.parser')\n",
    "\n",
    "import requests\n",
    "import smtplib\n",
    "import time\n",
    "import datetime"
   ]
  },
  {
   "cell_type": "code",
   "execution_count": 123,
   "id": "bc4b9aae",
   "metadata": {
    "scrolled": true
   },
   "outputs": [
    {
     "name": "stdout",
     "output_type": "stream",
     "text": [
      "\n",
      "\n",
      "            Get Custom Art Henri Matisse - Woman at Tbe Piano, Poster Art Print Wall Decor - Size 24x36 Inches\n",
      "           \n",
      "\n",
      "$24.99$24.99\n"
     ]
    }
   ],
   "source": [
    "# connect to website\n",
    "\n",
    "URL = 'https://www.amazon.com/Henri-Matisse-Canvas-Non-Canvas-Poster/dp/B00O2BY982/ref=rtpb_2/139-5776349-5175216?pd_rd_w=2a6cu&pf_rd_p=d12edb90-0e5b-498c-816a-9ba65872c34f&pf_rd_r=AX050WBV3MFVK2GFMF1T&pd_rd_r=cb4c9dd5-5714-4f89-a9a1-29758ed85305&pd_rd_wg=SS8JU&pd_rd_i=B00O2BY982&psc=1'\n",
    "\n",
    "headers = {\"User-Agent\": \"Mozilla/5.0 (Windows NT 10.0; Win64; x64) AppleWebKit/537.36 (KHTML, like Gecko) Chrome/99.0.4844.51 Safari/537.36 Edg/99.0.1150.39\",  \"Accept-Encoding\": \"gzip, deflate\", \"Accept\": \"text/html,application/xhtml+xml,application/xml;q=0.9,image/webp,image/apng,*/*;q=0.8,application/signed-exchange;v=b3;q=0.9\",  \"Upgrade-Insecure-Requests\": \"1\"}\n",
    "\n",
    "page = requests.get(URL, headers = headers)\n",
    "\n",
    "soup1 = BeautifulSoup(page.content, \"html.parser\")\n",
    "soup2 = BeautifulSoup(soup1.prettify(), \"html.parser\")\n",
    "\n",
    "title = soup2.find(id='title').get_text()\n",
    "price = soup2.find(id='corePriceDisplay_desktop_feature_div').get_text(strip=True)\n",
    "\n",
    "print(title)\n",
    "print(price)"
   ]
  },
  {
   "cell_type": "code",
   "execution_count": 124,
   "id": "d4b62067",
   "metadata": {},
   "outputs": [
    {
     "name": "stdout",
     "output_type": "stream",
     "text": [
      "Get Custom Art Henri Matisse - Woman at Tbe Piano, Poster Art Print Wall Decor - Size 24x36 Inches\n",
      "24.99\n"
     ]
    }
   ],
   "source": [
    "title = title.strip()\n",
    "price = float(price.split('$')[1])\n",
    "\n",
    "print(title)\n",
    "print(price)"
   ]
  },
  {
   "cell_type": "code",
   "execution_count": 125,
   "id": "5cbcea7c",
   "metadata": {},
   "outputs": [
    {
     "name": "stdout",
     "output_type": "stream",
     "text": [
      "2022-04-01\n"
     ]
    }
   ],
   "source": [
    "import datetime\n",
    "today = datetime.date.today()\n",
    "print(today)"
   ]
  },
  {
   "cell_type": "code",
   "execution_count": 126,
   "id": "eac58b36",
   "metadata": {},
   "outputs": [],
   "source": [
    "import csv\n",
    "\n",
    "header = ['Title', 'Price', 'ScrapDate']\n",
    "data = [title, price, today]\n",
    "\n",
    "with open('AmazonWebScraperDataset.csv','w',newline='', encoding='UTF8') as f:\n",
    "    writer = csv.writer(f)\n",
    "    writer.writerow(header)\n",
    "    writer.writerow(data)"
   ]
  },
  {
   "cell_type": "code",
   "execution_count": 127,
   "id": "972f2b28",
   "metadata": {},
   "outputs": [
    {
     "name": "stdout",
     "output_type": "stream",
     "text": [
      "                                               Title  Price   ScrapDate\n",
      "0  Get Custom Art Henri Matisse - Woman at Tbe Pi...  24.99  2022-04-01\n"
     ]
    }
   ],
   "source": [
    "import pandas as pd\n",
    "df = pd.read_csv(r\"C:\\Users\\kylie\\OneDrive\\Documents\\AmazonWebScraperDataset.csv\")\n",
    "print(df)"
   ]
  },
  {
   "cell_type": "markdown",
   "id": "576f7958",
   "metadata": {},
   "source": [
    "### Set up autochecks and notifications on price change"
   ]
  },
  {
   "cell_type": "code",
   "execution_count": 101,
   "id": "fe747561",
   "metadata": {},
   "outputs": [],
   "source": [
    "def check_price():\n",
    "    URL = 'https://www.amazon.com/Henri-Matisse-Canvas-Non-Canvas-Poster/dp/B00O2BY982/ref=rtpb_2/139-5776349-5175216?pd_rd_w=2a6cu&pf_rd_p=d12edb90-0e5b-498c-816a-9ba65872c34f&pf_rd_r=AX050WBV3MFVK2GFMF1T&pd_rd_r=cb4c9dd5-5714-4f89-a9a1-29758ed85305&pd_rd_wg=SS8JU&pd_rd_i=B00O2BY982&psc=1'\n",
    "\n",
    "    headers = {\"User-Agent\": \"Mozilla/5.0 (Windows NT 10.0; Win64; x64) AppleWebKit/537.36 (KHTML, like Gecko) Chrome/99.0.4844.51 Safari/537.36 Edg/99.0.1150.39\",  \"Accept-Encoding\": \"gzip, deflate\", \"Accept\": \"text/html,application/xhtml+xml,application/xml;q=0.9,image/webp,image/apng,*/*;q=0.8,application/signed-exchange;v=b3;q=0.9\",  \"Upgrade-Insecure-Requests\": \"1\"}\n",
    "\n",
    "    page = requests.get(URL, headers = headers)\n",
    "\n",
    "    soup1 = BeautifulSoup(page.content, \"html.parser\")\n",
    "    soup2 = BeautifulSoup(soup1.prettify(), \"html.parser\")\n",
    "\n",
    "    title = soup2.find(id='title').get_text()\n",
    "    price = soup2.find(id='corePriceDisplay_desktop_feature_div').get_text(strip=True)\n",
    "    \n",
    "    title = title.strip()\n",
    "    price = float(price.split('$')[1])\n",
    "    \n",
    "    import datetime\n",
    "    today = datetime.date.today()\n",
    "    \n",
    "    import csv\n",
    "\n",
    "    header = ['Title', 'Price', 'ScrapDate']\n",
    "    data = [title, price, today]\n",
    "\n",
    "    with open('AmazonWebScraperDataset.csv','w',newline='', encoding='UTF8') as f:\n",
    "        writer = csv.writer(f)\n",
    "        writer.writerow(data)\n",
    "    \n",
    "    if(price < 30):\n",
    "        send_mail()"
   ]
  },
  {
   "cell_type": "code",
   "execution_count": 113,
   "id": "6ca058b2",
   "metadata": {},
   "outputs": [],
   "source": [
    "def send_mail():\n",
    "    server = smtplib.SMTP_SSL('smtp.gmail.com', 465)\n",
    "    server.ehlo()\n",
    "#     server.starttls()\n",
    "#     server.ehlo()\n",
    "    server.login('xxxxxx@gmail.com', 'xxxxxxxx')\n",
    "    \n",
    "    subject = 'The Goodie you want is below $30!'\n",
    "    body = 'Hi, this is the moment we have been waiting for. Now is your chance to buy!'\n",
    "    \n",
    "    msg = f\"subject: {subject}\\n\\n{body}\"\n",
    "    \n",
    "    server.sendmail(\n",
    "        'xxxxx@gmail.com',\n",
    "        msg\n",
    "    )"
   ]
  },
  {
   "cell_type": "code",
   "execution_count": null,
   "id": "a6e2bb68",
   "metadata": {},
   "outputs": [],
   "source": [
    "# check every day\n",
    "\n",
    "while(True):\n",
    "    check_price()\n",
    "    time.sleep(86400)"
   ]
  }
 ],
 "metadata": {
  "kernelspec": {
   "display_name": "Python 3 (ipykernel)",
   "language": "python",
   "name": "python3"
  },
  "language_info": {
   "codemirror_mode": {
    "name": "ipython",
    "version": 3
   },
   "file_extension": ".py",
   "mimetype": "text/x-python",
   "name": "python",
   "nbconvert_exporter": "python",
   "pygments_lexer": "ipython3",
   "version": "3.9.7"
  }
 },
 "nbformat": 4,
 "nbformat_minor": 5
}
